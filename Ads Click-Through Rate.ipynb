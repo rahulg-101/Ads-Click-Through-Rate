{
 "cells": [
  {
   "cell_type": "code",
   "execution_count": 8,
   "id": "1d77b41c",
   "metadata": {},
   "outputs": [],
   "source": [
    "import pandas as pd\n",
    "import numpy as np\n",
    "import matplotlib.pyplot as plt\n",
    "import seaborn as sns"
   ]
  },
  {
   "cell_type": "code",
   "execution_count": 9,
   "id": "9a8a04b9",
   "metadata": {},
   "outputs": [
    {
     "data": {
      "text/html": [
       "<div>\n",
       "<style scoped>\n",
       "    .dataframe tbody tr th:only-of-type {\n",
       "        vertical-align: middle;\n",
       "    }\n",
       "\n",
       "    .dataframe tbody tr th {\n",
       "        vertical-align: top;\n",
       "    }\n",
       "\n",
       "    .dataframe thead th {\n",
       "        text-align: right;\n",
       "    }\n",
       "</style>\n",
       "<table border=\"1\" class=\"dataframe\">\n",
       "  <thead>\n",
       "    <tr style=\"text-align: right;\">\n",
       "      <th></th>\n",
       "      <th>Daily Time Spent on Site</th>\n",
       "      <th>Age</th>\n",
       "      <th>Area Income</th>\n",
       "      <th>Daily Internet Usage</th>\n",
       "      <th>Ad Topic Line</th>\n",
       "      <th>City</th>\n",
       "      <th>Gender</th>\n",
       "      <th>Country</th>\n",
       "      <th>Timestamp</th>\n",
       "      <th>Clicked on Ad</th>\n",
       "    </tr>\n",
       "  </thead>\n",
       "  <tbody>\n",
       "    <tr>\n",
       "      <th>0</th>\n",
       "      <td>62.26</td>\n",
       "      <td>32.0</td>\n",
       "      <td>69481.85</td>\n",
       "      <td>172.83</td>\n",
       "      <td>Decentralized real-time circuit</td>\n",
       "      <td>Lisafort</td>\n",
       "      <td>Male</td>\n",
       "      <td>Svalbard &amp; Jan Mayen Islands</td>\n",
       "      <td>2016-06-09 21:43:05</td>\n",
       "      <td>0</td>\n",
       "    </tr>\n",
       "    <tr>\n",
       "      <th>1</th>\n",
       "      <td>41.73</td>\n",
       "      <td>31.0</td>\n",
       "      <td>61840.26</td>\n",
       "      <td>207.17</td>\n",
       "      <td>Optional full-range projection</td>\n",
       "      <td>West Angelabury</td>\n",
       "      <td>Male</td>\n",
       "      <td>Singapore</td>\n",
       "      <td>2016-01-16 17:56:05</td>\n",
       "      <td>0</td>\n",
       "    </tr>\n",
       "    <tr>\n",
       "      <th>2</th>\n",
       "      <td>44.40</td>\n",
       "      <td>30.0</td>\n",
       "      <td>57877.15</td>\n",
       "      <td>172.83</td>\n",
       "      <td>Total 5thgeneration standardization</td>\n",
       "      <td>Reyesfurt</td>\n",
       "      <td>Female</td>\n",
       "      <td>Guadeloupe</td>\n",
       "      <td>2016-06-29 10:50:45</td>\n",
       "      <td>0</td>\n",
       "    </tr>\n",
       "    <tr>\n",
       "      <th>3</th>\n",
       "      <td>59.88</td>\n",
       "      <td>28.0</td>\n",
       "      <td>56180.93</td>\n",
       "      <td>207.17</td>\n",
       "      <td>Balanced empowering success</td>\n",
       "      <td>New Michael</td>\n",
       "      <td>Female</td>\n",
       "      <td>Zambia</td>\n",
       "      <td>2016-06-21 14:32:32</td>\n",
       "      <td>0</td>\n",
       "    </tr>\n",
       "    <tr>\n",
       "      <th>4</th>\n",
       "      <td>49.21</td>\n",
       "      <td>30.0</td>\n",
       "      <td>54324.73</td>\n",
       "      <td>201.58</td>\n",
       "      <td>Total 5thgeneration standardization</td>\n",
       "      <td>West Richard</td>\n",
       "      <td>Female</td>\n",
       "      <td>Qatar</td>\n",
       "      <td>2016-07-21 10:54:35</td>\n",
       "      <td>1</td>\n",
       "    </tr>\n",
       "  </tbody>\n",
       "</table>\n",
       "</div>"
      ],
      "text/plain": [
       "   Daily Time Spent on Site   Age  Area Income  Daily Internet Usage  \\\n",
       "0                     62.26  32.0     69481.85                172.83   \n",
       "1                     41.73  31.0     61840.26                207.17   \n",
       "2                     44.40  30.0     57877.15                172.83   \n",
       "3                     59.88  28.0     56180.93                207.17   \n",
       "4                     49.21  30.0     54324.73                201.58   \n",
       "\n",
       "                         Ad Topic Line             City  Gender  \\\n",
       "0      Decentralized real-time circuit         Lisafort    Male   \n",
       "1       Optional full-range projection  West Angelabury    Male   \n",
       "2  Total 5thgeneration standardization        Reyesfurt  Female   \n",
       "3          Balanced empowering success      New Michael  Female   \n",
       "4  Total 5thgeneration standardization     West Richard  Female   \n",
       "\n",
       "                        Country            Timestamp  Clicked on Ad  \n",
       "0  Svalbard & Jan Mayen Islands  2016-06-09 21:43:05              0  \n",
       "1                     Singapore  2016-01-16 17:56:05              0  \n",
       "2                    Guadeloupe  2016-06-29 10:50:45              0  \n",
       "3                        Zambia  2016-06-21 14:32:32              0  \n",
       "4                         Qatar  2016-07-21 10:54:35              1  "
      ]
     },
     "execution_count": 9,
     "metadata": {},
     "output_type": "execute_result"
    }
   ],
   "source": [
    "df = pd.read_csv(\"ad_10000records.csv\")\n",
    "df.head()"
   ]
  },
  {
   "cell_type": "code",
   "execution_count": 10,
   "id": "5b67bfbe",
   "metadata": {},
   "outputs": [
    {
     "name": "stdout",
     "output_type": "stream",
     "text": [
      "<class 'pandas.core.frame.DataFrame'>\n",
      "RangeIndex: 10000 entries, 0 to 9999\n",
      "Data columns (total 10 columns):\n",
      " #   Column                    Non-Null Count  Dtype  \n",
      "---  ------                    --------------  -----  \n",
      " 0   Daily Time Spent on Site  10000 non-null  float64\n",
      " 1   Age                       10000 non-null  float64\n",
      " 2   Area Income               10000 non-null  float64\n",
      " 3   Daily Internet Usage      10000 non-null  float64\n",
      " 4   Ad Topic Line             10000 non-null  object \n",
      " 5   City                      10000 non-null  object \n",
      " 6   Gender                    10000 non-null  object \n",
      " 7   Country                   10000 non-null  object \n",
      " 8   Timestamp                 10000 non-null  object \n",
      " 9   Clicked on Ad             10000 non-null  int64  \n",
      "dtypes: float64(4), int64(1), object(5)\n",
      "memory usage: 781.4+ KB\n"
     ]
    }
   ],
   "source": [
    "df.info()"
   ]
  },
  {
   "cell_type": "code",
   "execution_count": 11,
   "id": "bcebbee0",
   "metadata": {},
   "outputs": [
    {
     "data": {
      "text/html": [
       "<div>\n",
       "<style scoped>\n",
       "    .dataframe tbody tr th:only-of-type {\n",
       "        vertical-align: middle;\n",
       "    }\n",
       "\n",
       "    .dataframe tbody tr th {\n",
       "        vertical-align: top;\n",
       "    }\n",
       "\n",
       "    .dataframe thead th {\n",
       "        text-align: right;\n",
       "    }\n",
       "</style>\n",
       "<table border=\"1\" class=\"dataframe\">\n",
       "  <thead>\n",
       "    <tr style=\"text-align: right;\">\n",
       "      <th></th>\n",
       "      <th>Daily Time Spent on Site</th>\n",
       "      <th>Age</th>\n",
       "      <th>Area Income</th>\n",
       "      <th>Daily Internet Usage</th>\n",
       "      <th>Clicked on Ad</th>\n",
       "    </tr>\n",
       "  </thead>\n",
       "  <tbody>\n",
       "    <tr>\n",
       "      <th>count</th>\n",
       "      <td>10000.000000</td>\n",
       "      <td>10000.000000</td>\n",
       "      <td>10000.000000</td>\n",
       "      <td>10000.000000</td>\n",
       "      <td>10000.000000</td>\n",
       "    </tr>\n",
       "    <tr>\n",
       "      <th>mean</th>\n",
       "      <td>61.660757</td>\n",
       "      <td>35.940100</td>\n",
       "      <td>53840.047721</td>\n",
       "      <td>177.759831</td>\n",
       "      <td>0.491700</td>\n",
       "    </tr>\n",
       "    <tr>\n",
       "      <th>std</th>\n",
       "      <td>15.704142</td>\n",
       "      <td>8.572973</td>\n",
       "      <td>13343.708718</td>\n",
       "      <td>40.820951</td>\n",
       "      <td>0.499956</td>\n",
       "    </tr>\n",
       "    <tr>\n",
       "      <th>min</th>\n",
       "      <td>32.600000</td>\n",
       "      <td>19.000000</td>\n",
       "      <td>13996.500000</td>\n",
       "      <td>105.220000</td>\n",
       "      <td>0.000000</td>\n",
       "    </tr>\n",
       "    <tr>\n",
       "      <th>25%</th>\n",
       "      <td>48.860000</td>\n",
       "      <td>29.000000</td>\n",
       "      <td>44052.302500</td>\n",
       "      <td>140.150000</td>\n",
       "      <td>0.000000</td>\n",
       "    </tr>\n",
       "    <tr>\n",
       "      <th>50%</th>\n",
       "      <td>59.590000</td>\n",
       "      <td>35.000000</td>\n",
       "      <td>56180.930000</td>\n",
       "      <td>178.920000</td>\n",
       "      <td>0.000000</td>\n",
       "    </tr>\n",
       "    <tr>\n",
       "      <th>75%</th>\n",
       "      <td>76.580000</td>\n",
       "      <td>42.000000</td>\n",
       "      <td>61840.260000</td>\n",
       "      <td>212.670000</td>\n",
       "      <td>1.000000</td>\n",
       "    </tr>\n",
       "    <tr>\n",
       "      <th>max</th>\n",
       "      <td>90.970000</td>\n",
       "      <td>60.000000</td>\n",
       "      <td>79332.330000</td>\n",
       "      <td>269.960000</td>\n",
       "      <td>1.000000</td>\n",
       "    </tr>\n",
       "  </tbody>\n",
       "</table>\n",
       "</div>"
      ],
      "text/plain": [
       "       Daily Time Spent on Site           Age   Area Income  \\\n",
       "count              10000.000000  10000.000000  10000.000000   \n",
       "mean                  61.660757     35.940100  53840.047721   \n",
       "std                   15.704142      8.572973  13343.708718   \n",
       "min                   32.600000     19.000000  13996.500000   \n",
       "25%                   48.860000     29.000000  44052.302500   \n",
       "50%                   59.590000     35.000000  56180.930000   \n",
       "75%                   76.580000     42.000000  61840.260000   \n",
       "max                   90.970000     60.000000  79332.330000   \n",
       "\n",
       "       Daily Internet Usage  Clicked on Ad  \n",
       "count          10000.000000   10000.000000  \n",
       "mean             177.759831       0.491700  \n",
       "std               40.820951       0.499956  \n",
       "min              105.220000       0.000000  \n",
       "25%              140.150000       0.000000  \n",
       "50%              178.920000       0.000000  \n",
       "75%              212.670000       1.000000  \n",
       "max              269.960000       1.000000  "
      ]
     },
     "execution_count": 11,
     "metadata": {},
     "output_type": "execute_result"
    }
   ],
   "source": [
    "df.describe()"
   ]
  },
  {
   "cell_type": "code",
   "execution_count": 12,
   "id": "17cb5138",
   "metadata": {},
   "outputs": [
    {
     "data": {
      "text/plain": [
       "Daily Time Spent on Site    0\n",
       "Age                         0\n",
       "Area Income                 0\n",
       "Daily Internet Usage        0\n",
       "Ad Topic Line               0\n",
       "City                        0\n",
       "Gender                      0\n",
       "Country                     0\n",
       "Timestamp                   0\n",
       "Clicked on Ad               0\n",
       "dtype: int64"
      ]
     },
     "execution_count": 12,
     "metadata": {},
     "output_type": "execute_result"
    }
   ],
   "source": [
    "df.isnull().sum()"
   ]
  },
  {
   "cell_type": "code",
   "execution_count": 13,
   "id": "85552eaf",
   "metadata": {},
   "outputs": [],
   "source": [
    "from sklearn.preprocessing import OrdinalEncoder\n",
    "?OrdinalEncoder"
   ]
  },
  {
   "cell_type": "code",
   "execution_count": 116,
   "id": "ca2cf1d2",
   "metadata": {},
   "outputs": [],
   "source": [
    "oend = OrdinalEncoder()\n",
    "df['Gender'] = oend.fit_transform(np.array(df[\"Gender\"]).reshape(-1, 1))"
   ]
  },
  {
   "cell_type": "code",
   "execution_count": 167,
   "id": "bd4a6b61",
   "metadata": {},
   "outputs": [
    {
     "name": "stdout",
     "output_type": "stream",
     "text": [
      "Daily Time Spent on Site    0.091034\n",
      "Age                         0.460383\n",
      "Area Income                -0.067631\n",
      "Daily Internet Usage       -0.129412\n",
      "Gender                     -0.049596\n",
      "Clicked on Ad               1.000000\n",
      "Name: Clicked on Ad, dtype: float64\n"
     ]
    },
    {
     "data": {
      "text/plain": [
       "Index(['Daily Time Spent on Site', 'Age', 'Area Income',\n",
       "       'Daily Internet Usage', 'Gender', 'Clicked on Ad'],\n",
       "      dtype='object')"
      ]
     },
     "execution_count": 167,
     "metadata": {},
     "output_type": "execute_result"
    },
    {
     "data": {
      "image/png": "[encoded data removed]",
      "text/plain": [
       "<Figure size 640x480 with 2 Axes>"
      ]
     },
     "metadata": {},
     "output_type": "display_data"
    }
   ],
   "source": [
    "corr_mat = df.corr()\n",
    "print(corr_mat['Clicked on Ad'])\n",
    "sns.heatmap(corr_mat,annot = True)\n",
    "corr_mat.columns.unique()"
   ]
  },
  {
   "cell_type": "markdown",
   "id": "700f5b7d",
   "metadata": {},
   "source": [
    "### As per the Heatmap, we aren't getting a strong correlation between any of the features, so we can also try creating boxplots to understand the correlation with a bit visual appeal"
   ]
  },
  {
   "cell_type": "code",
   "execution_count": 92,
   "id": "2847b8cb",
   "metadata": {},
   "outputs": [
    {
     "data": {
      "image/png": "[encoded data removed]",
      "text/plain": [
       "<Figure size 640x480 with 1 Axes>"
      ]
     },
     "metadata": {},
     "output_type": "display_data"
    }
   ],
   "source": [
    "i = list(df.columns.unique())[0]\n",
    "box = plt.boxplot([df[i].loc[df['Clicked on Ad'] == 1],df[i].loc[df['Clicked on Ad'] == 0]],vert=False,patch_artist= True,labels = ['Yes','No'])\n",
    "color = ['lightgreen','pink']\n",
    "plt.xlabel(i)\n",
    "for patch,color in zip(box['boxes'],color):\n",
    "    patch.set_facecolor(color)"
   ]
  },
  {
   "cell_type": "code",
   "execution_count": 93,
   "id": "8cff514a",
   "metadata": {},
   "outputs": [
    {
     "data": {
      "image/png": "[encoded data removed]",
      "text/plain": [
       "<Figure size 640x480 with 1 Axes>"
      ]
     },
     "metadata": {},
     "output_type": "display_data"
    }
   ],
   "source": [
    "\n",
    "i = 'Age'\n",
    "box = plt.boxplot([df[i].loc[df['Clicked on Ad'] == 1],df[i].loc[df['Clicked on Ad'] == 0]],vert=False,patch_artist= True,labels = ['Yes','No'])\n",
    "color = ['lightgreen','pink']\n",
    "plt.xlabel(i)\n",
    "for patch,color in zip(box['boxes'],color):\n",
    "    patch.set_facecolor(color)"
   ]
  },
  {
   "cell_type": "code",
   "execution_count": 95,
   "id": "70949e8c",
   "metadata": {},
   "outputs": [
    {
     "data": {
      "image/png": "[encoded data removed]",
      "text/plain": [
       "<Figure size 640x480 with 1 Axes>"
      ]
     },
     "metadata": {},
     "output_type": "display_data"
    }
   ],
   "source": [
    "i = 'Area Income'\n",
    "       \n",
    "box = plt.boxplot([df[i].loc[df['Clicked on Ad'] == 1],df[i].loc[df['Clicked on Ad'] == 0]],vert=False,patch_artist= True,labels = ['Yes','No'])\n",
    "color = ['lightgreen','pink']\n",
    "plt.xlabel(i)\n",
    "for patch,color in zip(box['boxes'],color):\n",
    "    patch.set_facecolor(color)"
   ]
  },
  {
   "cell_type": "code",
   "execution_count": 166,
   "id": "60cf7406",
   "metadata": {},
   "outputs": [
    {
     "data": {
      "image/png": "[encoded data removed]",
      "text/plain": [
       "<Figure size 640x480 with 1 Axes>"
      ]
     },
     "metadata": {},
     "output_type": "display_data"
    }
   ],
   "source": [
    "i = 'Daily Internet Usage'\n",
    "box = plt.boxplot([df[i].loc[df['Clicked on Ad'] == 1],df[i].loc[df['Clicked on Ad'] == 0]],vert=False,patch_artist= True,labels = ['Yes','No'])\n",
    "color = ['lightgreen','pink']\n",
    "plt.xlabel(i)\n",
    "for patch,color in zip(box['boxes'],color):\n",
    "    patch.set_facecolor(color)"
   ]
  },
  {
   "cell_type": "code",
   "execution_count": 173,
   "id": "716ea925",
   "metadata": {},
   "outputs": [],
   "source": [
    "from sklearn.preprocessing import StandardScaler\n",
    "std = StandardScaler()\n",
    "for i in list(corr_mat.columns.unique())[:-2]:\n",
    "\tdf[i] = std.fit_transform(np.array(df[i]).reshape(-1,1))\n",
    "    "
   ]
  },
  {
   "cell_type": "code",
   "execution_count": 174,
   "id": "38c01310",
   "metadata": {},
   "outputs": [
    {
     "data": {
      "text/html": [
       "<div>\n",
       "<style scoped>\n",
       "    .dataframe tbody tr th:only-of-type {\n",
       "        vertical-align: middle;\n",
       "    }\n",
       "\n",
       "    .dataframe tbody tr th {\n",
       "        vertical-align: top;\n",
       "    }\n",
       "\n",
       "    .dataframe thead th {\n",
       "        text-align: right;\n",
       "    }\n",
       "</style>\n",
       "<table border=\"1\" class=\"dataframe\">\n",
       "  <thead>\n",
       "    <tr style=\"text-align: right;\">\n",
       "      <th></th>\n",
       "      <th>Daily Time Spent on Site</th>\n",
       "      <th>Age</th>\n",
       "      <th>Area Income</th>\n",
       "      <th>Daily Internet Usage</th>\n",
       "      <th>Ad Topic Line</th>\n",
       "      <th>City</th>\n",
       "      <th>Gender</th>\n",
       "      <th>Country</th>\n",
       "      <th>Timestamp</th>\n",
       "      <th>Clicked on Ad</th>\n",
       "    </tr>\n",
       "  </thead>\n",
       "  <tbody>\n",
       "    <tr>\n",
       "      <th>0</th>\n",
       "      <td>0.038160</td>\n",
       "      <td>-0.459619</td>\n",
       "      <td>1.172282</td>\n",
       "      <td>-0.120773</td>\n",
       "      <td>Decentralized real-time circuit</td>\n",
       "      <td>Lisafort</td>\n",
       "      <td>1.0</td>\n",
       "      <td>Svalbard &amp; Jan Mayen Islands</td>\n",
       "      <td>2016-06-09 21:43:05</td>\n",
       "      <td>0</td>\n",
       "    </tr>\n",
       "    <tr>\n",
       "      <th>1</th>\n",
       "      <td>-1.269204</td>\n",
       "      <td>-0.576270</td>\n",
       "      <td>0.599579</td>\n",
       "      <td>0.720504</td>\n",
       "      <td>Optional full-range projection</td>\n",
       "      <td>West Angelabury</td>\n",
       "      <td>1.0</td>\n",
       "      <td>Singapore</td>\n",
       "      <td>2016-01-16 17:56:05</td>\n",
       "      <td>0</td>\n",
       "    </tr>\n",
       "    <tr>\n",
       "      <th>2</th>\n",
       "      <td>-1.099176</td>\n",
       "      <td>-0.692921</td>\n",
       "      <td>0.302562</td>\n",
       "      <td>-0.120773</td>\n",
       "      <td>Total 5thgeneration standardization</td>\n",
       "      <td>Reyesfurt</td>\n",
       "      <td>0.0</td>\n",
       "      <td>Guadeloupe</td>\n",
       "      <td>2016-06-29 10:50:45</td>\n",
       "      <td>0</td>\n",
       "    </tr>\n",
       "    <tr>\n",
       "      <th>3</th>\n",
       "      <td>-0.113400</td>\n",
       "      <td>-0.926224</td>\n",
       "      <td>0.175438</td>\n",
       "      <td>0.720504</td>\n",
       "      <td>Balanced empowering success</td>\n",
       "      <td>New Michael</td>\n",
       "      <td>0.0</td>\n",
       "      <td>Zambia</td>\n",
       "      <td>2016-06-21 14:32:32</td>\n",
       "      <td>0</td>\n",
       "    </tr>\n",
       "    <tr>\n",
       "      <th>4</th>\n",
       "      <td>-0.792872</td>\n",
       "      <td>-0.692921</td>\n",
       "      <td>0.036325</td>\n",
       "      <td>0.583557</td>\n",
       "      <td>Total 5thgeneration standardization</td>\n",
       "      <td>West Richard</td>\n",
       "      <td>0.0</td>\n",
       "      <td>Qatar</td>\n",
       "      <td>2016-07-21 10:54:35</td>\n",
       "      <td>1</td>\n",
       "    </tr>\n",
       "    <tr>\n",
       "      <th>...</th>\n",
       "      <td>...</td>\n",
       "      <td>...</td>\n",
       "      <td>...</td>\n",
       "      <td>...</td>\n",
       "      <td>...</td>\n",
       "      <td>...</td>\n",
       "      <td>...</td>\n",
       "      <td>...</td>\n",
       "      <td>...</td>\n",
       "      <td>...</td>\n",
       "    </tr>\n",
       "    <tr>\n",
       "      <th>9995</th>\n",
       "      <td>-1.269204</td>\n",
       "      <td>-0.576270</td>\n",
       "      <td>0.599579</td>\n",
       "      <td>0.720504</td>\n",
       "      <td>Profound executive flexibility</td>\n",
       "      <td>West Angelabury</td>\n",
       "      <td>1.0</td>\n",
       "      <td>Singapore</td>\n",
       "      <td>2016-01-03 03:22:15</td>\n",
       "      <td>1</td>\n",
       "    </tr>\n",
       "    <tr>\n",
       "      <th>9996</th>\n",
       "      <td>-1.269204</td>\n",
       "      <td>-0.926224</td>\n",
       "      <td>-0.175272</td>\n",
       "      <td>-1.403022</td>\n",
       "      <td>Managed zero tolerance concept</td>\n",
       "      <td>Kennedyfurt</td>\n",
       "      <td>1.0</td>\n",
       "      <td>Luxembourg</td>\n",
       "      <td>2016-05-28 12:20:15</td>\n",
       "      <td>0</td>\n",
       "    </tr>\n",
       "    <tr>\n",
       "      <th>9997</th>\n",
       "      <td>-0.385953</td>\n",
       "      <td>0.356942</td>\n",
       "      <td>-1.182112</td>\n",
       "      <td>-1.306253</td>\n",
       "      <td>Intuitive exuding service-desk</td>\n",
       "      <td>North Randy</td>\n",
       "      <td>0.0</td>\n",
       "      <td>Egypt</td>\n",
       "      <td>2016-01-05 11:53:17</td>\n",
       "      <td>0</td>\n",
       "    </tr>\n",
       "    <tr>\n",
       "      <th>9998</th>\n",
       "      <td>-0.958442</td>\n",
       "      <td>1.640108</td>\n",
       "      <td>-0.739378</td>\n",
       "      <td>-1.338346</td>\n",
       "      <td>Realigned content-based leverage</td>\n",
       "      <td>North Samantha</td>\n",
       "      <td>0.0</td>\n",
       "      <td>Malawi</td>\n",
       "      <td>2016-04-04 07:07:46</td>\n",
       "      <td>1</td>\n",
       "    </tr>\n",
       "    <tr>\n",
       "      <th>9999</th>\n",
       "      <td>-0.958442</td>\n",
       "      <td>0.823548</td>\n",
       "      <td>0.504828</td>\n",
       "      <td>0.506877</td>\n",
       "      <td>Optimized upward-trending productivity</td>\n",
       "      <td>Port Jeffrey</td>\n",
       "      <td>1.0</td>\n",
       "      <td>Northern Mariana Islands</td>\n",
       "      <td>2016-04-03 21:13:46</td>\n",
       "      <td>1</td>\n",
       "    </tr>\n",
       "  </tbody>\n",
       "</table>\n",
       "<p>10000 rows × 10 columns</p>\n",
       "</div>"
      ],
      "text/plain": [
       "      Daily Time Spent on Site       Age  Area Income  Daily Internet Usage  \\\n",
       "0                     0.038160 -0.459619     1.172282             -0.120773   \n",
       "1                    -1.269204 -0.576270     0.599579              0.720504   \n",
       "2                    -1.099176 -0.692921     0.302562             -0.120773   \n",
       "3                    -0.113400 -0.926224     0.175438              0.720504   \n",
       "4                    -0.792872 -0.692921     0.036325              0.583557   \n",
       "...                        ...       ...          ...                   ...   \n",
       "9995                 -1.269204 -0.576270     0.599579              0.720504   \n",
       "9996                 -1.269204 -0.926224    -0.175272             -1.403022   \n",
       "9997                 -0.385953  0.356942    -1.182112             -1.306253   \n",
       "9998                 -0.958442  1.640108    -0.739378             -1.338346   \n",
       "9999                 -0.958442  0.823548     0.504828              0.506877   \n",
       "\n",
       "                               Ad Topic Line             City  Gender  \\\n",
       "0            Decentralized real-time circuit         Lisafort     1.0   \n",
       "1             Optional full-range projection  West Angelabury     1.0   \n",
       "2        Total 5thgeneration standardization        Reyesfurt     0.0   \n",
       "3                Balanced empowering success      New Michael     0.0   \n",
       "4        Total 5thgeneration standardization     West Richard     0.0   \n",
       "...                                      ...              ...     ...   \n",
       "9995          Profound executive flexibility  West Angelabury     1.0   \n",
       "9996          Managed zero tolerance concept      Kennedyfurt     1.0   \n",
       "9997          Intuitive exuding service-desk      North Randy     0.0   \n",
       "9998        Realigned content-based leverage   North Samantha     0.0   \n",
       "9999  Optimized upward-trending productivity     Port Jeffrey     1.0   \n",
       "\n",
       "                           Country            Timestamp  Clicked on Ad  \n",
       "0     Svalbard & Jan Mayen Islands  2016-06-09 21:43:05              0  \n",
       "1                        Singapore  2016-01-16 17:56:05              0  \n",
       "2                       Guadeloupe  2016-06-29 10:50:45              0  \n",
       "3                           Zambia  2016-06-21 14:32:32              0  \n",
       "4                            Qatar  2016-07-21 10:54:35              1  \n",
       "...                            ...                  ...            ...  \n",
       "9995                     Singapore  2016-01-03 03:22:15              1  \n",
       "9996                    Luxembourg  2016-05-28 12:20:15              0  \n",
       "9997                         Egypt  2016-01-05 11:53:17              0  \n",
       "9998                        Malawi  2016-04-04 07:07:46              1  \n",
       "9999      Northern Mariana Islands  2016-04-03 21:13:46              1  \n",
       "\n",
       "[10000 rows x 10 columns]"
      ]
     },
     "execution_count": 174,
     "metadata": {},
     "output_type": "execute_result"
    }
   ],
   "source": [
    "df"
   ]
  },
  {
   "cell_type": "markdown",
   "id": "b42b96fe",
   "metadata": {},
   "source": [
    "### We will now split the dataset using stratified sampling"
   ]
  },
  {
   "cell_type": "code",
   "execution_count": 176,
   "id": "7a4110c1",
   "metadata": {},
   "outputs": [],
   "source": [
    "from sklearn.model_selection import StratifiedShuffleSplit\n",
    "split = StratifiedShuffleSplit(n_splits=1,\n",
    "    test_size=0.2,\n",
    "    train_size=0.8,\n",
    "    random_state=42)\n",
    "#?StratifiedShuffleSplit\n",
    "for i,j in split.split(np.zeros(len(df)),df[\"Clicked on Ad\"]):\n",
    "    strattrainindex = i\n",
    "    strattestindex = j"
   ]
  },
  {
   "cell_type": "code",
   "execution_count": 177,
   "id": "8ac9110f",
   "metadata": {},
   "outputs": [],
   "source": [
    "xtrain = df.iloc[strattrainindex].iloc[:,:-1]\n",
    "ytrain = df.iloc[strattrainindex].iloc[:,-1]\n",
    "xtrain = xtrain.drop(columns = ['Ad Topic Line','City','Country','Timestamp'])\n",
    "\n",
    "xtest =  df.iloc[strattestindex].iloc[:,:-1].drop(columns = ['Ad Topic Line','City','Country','Timestamp'])\n",
    "ytest = df.iloc[strattestindex].iloc[:,-1]"
   ]
  },
  {
   "cell_type": "markdown",
   "id": "b486bf73",
   "metadata": {},
   "source": [
    "### Will now use a set of ML algorithms to determine the best fit for our dataset"
   ]
  },
  {
   "cell_type": "code",
   "execution_count": 178,
   "id": "94800d3f",
   "metadata": {},
   "outputs": [
    {
     "data": {
      "text/html": [
       "<style>#sk-container-id-4 {color: black;background-color: white;}#sk-container-id-4 pre{padding: 0;}#sk-container-id-4 div.sk-toggleable {background-color: white;}#sk-container-id-4 label.sk-toggleable__label {cursor: pointer;display: block;width: 100%;margin-bottom: 0;padding: 0.3em;box-sizing: border-box;text-align: center;}#sk-container-id-4 label.sk-toggleable__label-arrow:before {content: \"▸\";float: left;margin-right: 0.25em;color: #696969;}#sk-container-id-4 label.sk-toggleable__label-arrow:hover:before {color: black;}#sk-container-id-4 div.sk-estimator:hover label.sk-toggleable__label-arrow:before {color: black;}#sk-container-id-4 div.sk-toggleable__content {max-height: 0;max-width: 0;overflow: hidden;text-align: left;background-color: #f0f8ff;}#sk-container-id-4 div.sk-toggleable__content pre {margin: 0.2em;color: black;border-radius: 0.25em;background-color: #f0f8ff;}#sk-container-id-4 input.sk-toggleable__control:checked~div.sk-toggleable__content {max-height: 200px;max-width: 100%;overflow: auto;}#sk-container-id-4 input.sk-toggleable__control:checked~label.sk-toggleable__label-arrow:before {content: \"▾\";}#sk-container-id-4 div.sk-estimator input.sk-toggleable__control:checked~label.sk-toggleable__label {background-color: #d4ebff;}#sk-container-id-4 div.sk-label input.sk-toggleable__control:checked~label.sk-toggleable__label {background-color: #d4ebff;}#sk-container-id-4 input.sk-hidden--visually {border: 0;clip: rect(1px 1px 1px 1px);clip: rect(1px, 1px, 1px, 1px);height: 1px;margin: -1px;overflow: hidden;padding: 0;position: absolute;width: 1px;}#sk-container-id-4 div.sk-estimator {font-family: monospace;background-color: #f0f8ff;border: 1px dotted black;border-radius: 0.25em;box-sizing: border-box;margin-bottom: 0.5em;}#sk-container-id-4 div.sk-estimator:hover {background-color: #d4ebff;}#sk-container-id-4 div.sk-parallel-item::after {content: \"\";width: 100%;border-bottom: 1px solid gray;flex-grow: 1;}#sk-container-id-4 div.sk-label:hover label.sk-toggleable__label {background-color: #d4ebff;}#sk-container-id-4 div.sk-serial::before {content: \"\";position: absolute;border-left: 1px solid gray;box-sizing: border-box;top: 0;bottom: 0;left: 50%;z-index: 0;}#sk-container-id-4 div.sk-serial {display: flex;flex-direction: column;align-items: center;background-color: white;padding-right: 0.2em;padding-left: 0.2em;position: relative;}#sk-container-id-4 div.sk-item {position: relative;z-index: 1;}#sk-container-id-4 div.sk-parallel {display: flex;align-items: stretch;justify-content: center;background-color: white;position: relative;}#sk-container-id-4 div.sk-item::before, #sk-container-id-4 div.sk-parallel-item::before {content: \"\";position: absolute;border-left: 1px solid gray;box-sizing: border-box;top: 0;bottom: 0;left: 50%;z-index: -1;}#sk-container-id-4 div.sk-parallel-item {display: flex;flex-direction: column;z-index: 1;position: relative;background-color: white;}#sk-container-id-4 div.sk-parallel-item:first-child::after {align-self: flex-end;width: 50%;}#sk-container-id-4 div.sk-parallel-item:last-child::after {align-self: flex-start;width: 50%;}#sk-container-id-4 div.sk-parallel-item:only-child::after {width: 0;}#sk-container-id-4 div.sk-dashed-wrapped {border: 1px dashed gray;margin: 0 0.4em 0.5em 0.4em;box-sizing: border-box;padding-bottom: 0.4em;background-color: white;}#sk-container-id-4 div.sk-label label {font-family: monospace;font-weight: bold;display: inline-block;line-height: 1.2em;}#sk-container-id-4 div.sk-label-container {text-align: center;}#sk-container-id-4 div.sk-container {/* jupyter's `normalize.less` sets `[hidden] { display: none; }` but bootstrap.min.css set `[hidden] { display: none !important; }` so we also need the `!important` here to be able to override the default hidden behavior on the sphinx rendered scikit-learn.org. See: https://github.com/scikit-learn/scikit-learn/issues/21755 */display: inline-block !important;position: relative;}#sk-container-id-4 div.sk-text-repr-fallback {display: none;}</style><div id=\"sk-container-id-4\" class=\"sk-top-container\"><div class=\"sk-text-repr-fallback\"><pre>LinearRegression()</pre><b>In a Jupyter environment, please rerun this cell to show the HTML representation or trust the notebook. <br />On GitHub, the HTML representation is unable to render, please try loading this page with nbviewer.org.</b></div><div class=\"sk-container\" hidden><div class=\"sk-item\"><div class=\"sk-estimator sk-toggleable\"><input class=\"sk-toggleable__control sk-hidden--visually\" id=\"sk-estimator-id-4\" type=\"checkbox\" checked><label for=\"sk-estimator-id-4\" class=\"sk-toggleable__label sk-toggleable__label-arrow\">LinearRegression</label><div class=\"sk-toggleable__content\"><pre>LinearRegression()</pre></div></div></div></div></div>"
      ],
      "text/plain": [
       "LinearRegression()"
      ]
     },
     "execution_count": 178,
     "metadata": {},
     "output_type": "execute_result"
    }
   ],
   "source": [
    "from sklearn.linear_model import LinearRegression\n",
    "\n",
    "lr = LinearRegression()\n",
    "lr.fit(xtrain,ytrain)"
   ]
  },
  {
   "cell_type": "code",
   "execution_count": 179,
   "id": "b75ecc10",
   "metadata": {},
   "outputs": [
    {
     "data": {
      "text/plain": [
       "0.19361579177636012"
      ]
     },
     "execution_count": 179,
     "metadata": {},
     "output_type": "execute_result"
    }
   ],
   "source": [
    "predicted_rate = lr.predict(xtrain)\n",
    "\n",
    "from sklearn.metrics import mean_squared_error\n",
    "mean_squared_error(ytrain,predicted_rate)"
   ]
  },
  {
   "cell_type": "markdown",
   "id": "7a766cf1",
   "metadata": {},
   "source": [
    "#### Using the test set"
   ]
  },
  {
   "cell_type": "code",
   "execution_count": 180,
   "id": "8a6eceb2",
   "metadata": {},
   "outputs": [
    {
     "data": {
      "text/plain": [
       "0.1941591727448269"
      ]
     },
     "execution_count": 180,
     "metadata": {},
     "output_type": "execute_result"
    }
   ],
   "source": [
    "predicted_test_rate = lr.predict(xtest)\n",
    "mean_squared_error(ytest,predicted_test_rate)"
   ]
  },
  {
   "cell_type": "code",
   "execution_count": 181,
   "id": "a0f15b50",
   "metadata": {},
   "outputs": [
    {
     "data": {
      "text/plain": [
       "[<matplotlib.lines.Line2D at 0x1909b79e0a0>]"
      ]
     },
     "execution_count": 181,
     "metadata": {},
     "output_type": "execute_result"
    },
    {
     "data": {
      "image/png": "[encoded data removed]",
      "text/plain": [
       "<Figure size 640x480 with 1 Axes>"
      ]
     },
     "metadata": {},
     "output_type": "display_data"
    }
   ],
   "source": [
    "plt.scatter(ytest,predicted_test_rate)\n",
    "plt.plot(ytest,ytest)"
   ]
  },
  {
   "cell_type": "markdown",
   "id": "f3e057c1",
   "metadata": {},
   "source": [
    "### Will try Decision Tree Regressor"
   ]
  },
  {
   "cell_type": "code",
   "execution_count": 182,
   "id": "9ca29b2b",
   "metadata": {},
   "outputs": [
    {
     "data": {
      "text/plain": [
       "0.021712171855921857"
      ]
     },
     "execution_count": 182,
     "metadata": {},
     "output_type": "execute_result"
    }
   ],
   "source": [
    "from sklearn.tree import DecisionTreeRegressor\n",
    "dtr = DecisionTreeRegressor()\n",
    "dtr.fit(xtrain,ytrain)\n",
    "predicted_dtr = dtr.predict(xtrain)\n",
    "mean_squared_error(ytrain,predicted_dtr)"
   ]
  },
  {
   "cell_type": "markdown",
   "id": "b7f1861c",
   "metadata": {},
   "source": [
    "#### Using test set"
   ]
  },
  {
   "cell_type": "code",
   "execution_count": 190,
   "id": "299b47be",
   "metadata": {},
   "outputs": [
    {
     "data": {
      "text/plain": [
       "0.25773991986434064"
      ]
     },
     "execution_count": 190,
     "metadata": {},
     "output_type": "execute_result"
    }
   ],
   "source": [
    "predicted_test_dtr = dtr.predict(xtest)\n",
    "mean_squared_error(ytest,predicted_test_dtr)"
   ]
  },
  {
   "cell_type": "code",
   "execution_count": 195,
   "id": "babdec2f",
   "metadata": {},
   "outputs": [
    {
     "data": {
      "text/plain": [
       "[<matplotlib.lines.Line2D at 0x1909cdfbb80>]"
      ]
     },
     "execution_count": 195,
     "metadata": {},
     "output_type": "execute_result"
    },
    {
     "data": {
      "image/png": "[encoded data removed]",
      "text/plain": [
       "<Figure size 640x480 with 1 Axes>"
      ]
     },
     "metadata": {},
     "output_type": "display_data"
    }
   ],
   "source": [
    "plt.scatter(ytest,predicted_test_dtr)\n",
    "plt.plot(ytest,ytest)"
   ]
  },
  {
   "cell_type": "markdown",
   "id": "73db98f9",
   "metadata": {},
   "source": [
    "### Will try ensemble learning method Random Forest algorithm"
   ]
  },
  {
   "cell_type": "code",
   "execution_count": 184,
   "id": "39d7e84f",
   "metadata": {},
   "outputs": [
    {
     "data": {
      "text/plain": [
       "0.038125341553311515"
      ]
     },
     "execution_count": 184,
     "metadata": {},
     "output_type": "execute_result"
    }
   ],
   "source": [
    "from sklearn.ensemble import RandomForestRegressor\n",
    "rfr = RandomForestRegressor()\n",
    "rfr.fit(xtrain,ytrain)\n",
    "predicted_rfr = rfr.predict(xtrain)\n",
    "mean_squared_error(ytrain,predicted_rfr)"
   ]
  },
  {
   "cell_type": "markdown",
   "id": "66ec357b",
   "metadata": {},
   "source": [
    "#### Using Test Set"
   ]
  },
  {
   "cell_type": "code",
   "execution_count": 196,
   "id": "903a5235",
   "metadata": {},
   "outputs": [
    {
     "data": {
      "text/plain": [
       "0.15725887465658575"
      ]
     },
     "execution_count": 196,
     "metadata": {},
     "output_type": "execute_result"
    }
   ],
   "source": [
    "predicted_test_rfr = rfr.predict(xtest)\n",
    "mean_squared_error(ytest,predicted_test_rfr)"
   ]
  },
  {
   "cell_type": "code",
   "execution_count": 197,
   "id": "bc38771d",
   "metadata": {},
   "outputs": [
    {
     "data": {
      "text/plain": [
       "[<matplotlib.lines.Line2D at 0x1909ce717f0>]"
      ]
     },
     "execution_count": 197,
     "metadata": {},
     "output_type": "execute_result"
    },
    {
     "data": {
      "image/png": "[encoded data removed]",
      "text/plain": [
       "<Figure size 640x480 with 1 Axes>"
      ]
     },
     "metadata": {},
     "output_type": "display_data"
    }
   ],
   "source": [
    "plt.scatter(ytest,predicted_test_rfr)\n",
    "plt.plot(ytest,ytest)"
   ]
  },
  {
   "cell_type": "markdown",
   "id": "350f4698",
   "metadata": {},
   "source": [
    "### We can use **Cross-Validation (CV)** for robust evaluation of our model performance."
   ]
  },
  {
   "cell_type": "code",
   "execution_count": 186,
   "id": "e9a04144",
   "metadata": {},
   "outputs": [],
   "source": [
    "from sklearn.model_selection import cross_val_score\n"
   ]
  },
  {
   "cell_type": "code",
   "execution_count": 187,
   "id": "0562e6c5",
   "metadata": {},
   "outputs": [],
   "source": [
    "# First we will create a simple function to display scores of the applied algorithms\n",
    "\n",
    "def display_scores(score):\n",
    "    print(\"Scores :\",score)\n",
    "    print(\"Mean :\",score.mean())\n",
    "    print(\"Standard Deviation :\",score.std())"
   ]
  },
  {
   "cell_type": "code",
   "execution_count": 188,
   "id": "dadd0884",
   "metadata": {},
   "outputs": [
    {
     "name": "stdout",
     "output_type": "stream",
     "text": [
      "Scores : [0.14899092 0.16931688 0.17066915 0.16708242 0.14524398 0.16600819\n",
      " 0.15531709 0.16441401 0.15455105 0.16057462]\n",
      "Mean : 0.16021683105048046\n",
      "Standard Deviation : 0.008347444858978965\n"
     ]
    }
   ],
   "source": [
    "# We can provide any estimator in the CVScore and find the best fit for our model, after trying all three,\n",
    "# I found RandomForest to be the best fit\n",
    "\n",
    "score = cross_val_score(rfr,xtrain,ytrain,scoring= 'neg_mean_squared_error',cv =10)\n",
    "score = -score\n",
    "display_scores(score)"
   ]
  },
  {
   "cell_type": "code",
   "execution_count": 189,
   "id": "1cb252b8",
   "metadata": {},
   "outputs": [
    {
     "name": "stdout",
     "output_type": "stream",
     "text": [
      "Ads Click Through Rate Prediction : \n",
      "Daily Time Spent on Site: 60\n",
      "Age: 25\n",
      "Area Income: 46800\n",
      "Daily Internet Usage: 120\n",
      "Gender (Male = 1, Female = 0) : 1\n",
      "Will the user click on ad =  [0.85]\n"
     ]
    },
    {
     "name": "stderr",
     "output_type": "stream",
     "text": [
      "C:\\Users\\rahul gupta\\AppData\\Local\\Packages\\PythonSoftwareFoundation.Python.3.9_qbz5n2kfra8p0\\LocalCache\\local-packages\\Python39\\site-packages\\sklearn\\base.py:420: UserWarning: X does not have valid feature names, but RandomForestRegressor was fitted with feature names\n",
      "  warnings.warn(\n"
     ]
    }
   ],
   "source": [
    "# Now let’s test the model by making predictions:\n",
    "\n",
    "\n",
    "print(\"Ads Click Through Rate Prediction : \")\n",
    "\n",
    "a = float(input(\"Daily Time Spent on Site: \"))\n",
    "b = float(input(\"Age: \"))\n",
    "c = float(input(\"Area Income: \"))\n",
    "d = float(input(\"Daily Internet Usage: \"))\n",
    "e = input(\"Gender (Male = 1, Female = 0) : \")\n",
    "features = np.array([[a, b, c, d, e]])\n",
    "\n",
    "print(\"Will the user click on ad = \", rfr.predict(features))"
   ]
  }
 ],
 "metadata": {
  "kernelspec": {
   "display_name": "Python 3 (ipykernel)",
   "language": "python",
   "name": "python3"
  },
  "language_info": {
   "codemirror_mode": {
    "name": "ipython",
    "version": 3
   },
   "file_extension": ".py",
   "mimetype": "text/x-python",
   "name": "python",
   "nbconvert_exporter": "python",
   "pygments_lexer": "ipython3",
   "version": "3.9.13"
  }
 },
 "nbformat": 4,
 "nbformat_minor": 5
}
